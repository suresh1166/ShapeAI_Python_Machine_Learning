{
  "nbformat": 4,
  "nbformat_minor": 0,
  "metadata": {
    "colab": {
      "name": "SURESH_G.ipynb",
      "provenance": []
    },
    "kernelspec": {
      "name": "python3",
      "display_name": "Python 3"
    },
    "language_info": {
      "name": "python"
    }
  },
  "cells": [
    {
      "cell_type": "code",
      "metadata": {
        "id": "FhANUlbOdYG6"
      },
      "source": [
        "import numpy as np\n",
        "import pandas as pd\n",
        "import sklearn\n",
        "from sklearn.datasets import load_boston\n",
        "df = load_boston()\n",
        "df.keys()\n",
        "print(df.data)\n",
        "boston = pd.DataFrame(df.data, columns=df.feature_names)\n",
        "boston.head(10)\n",
        "boston['MEDV']=df.target\n",
        "boston.head(10)\n",
        "boston.isnull()\n",
        "boston.isnull().sum()\n",
        "from sklearn.model_selection import train_test_split\n",
        "x = boston.drop('MEDV',axis=1)\n",
        "y = boston['MEDV']\n",
        "x_train, x_test, y_train, y_test = train_test_split(x, y, test_size = 0.15, random_state=5)\n",
        "print(x_train.shape)\n",
        "print(x_test.shape)\n",
        "print(y_train.shape)\n",
        "print(y_test.shape)\n",
        "from sklearn.linear_model import LinearRegression\n",
        "from sklearn.metrics import mean_squared_error\n",
        "lin_model = LinearRegression()\n",
        "lin_model.fit(x_train, y_train)\n",
        "y_train_predict = lin_model.predict(x_train)\n",
        "rmse = (np.sqrt(mean_squared_error(y_train, y_train_predict)))\n",
        "print(\"The model performance for trsining set\")\n",
        "print('RMSE is{}'.format(rmse))\n",
        "print('\\n')\n",
        "y_test_predict = lin_model.predict(x_test)\n",
        "rmse = (np.sqrt(mean_squared_error(y_test, y_test_predict)))\n",
        "print(\"The model perfomance for testing set\")\n",
        "print('RMSE is {}'.format(rmse))"
      ],
      "execution_count": null,
      "outputs": []
    }
  ]
}